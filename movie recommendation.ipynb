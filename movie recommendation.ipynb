{
 "cells": [
  {
   "cell_type": "code",
   "execution_count": 45,
   "id": "85f1275f-6776-49b7-bd22-d79b8ba7dca8",
   "metadata": {},
   "outputs": [],
   "source": [
    "# ✅ Step 1: Import Required Libraries\n",
    "import pandas as pd\n",
    "from sklearn.feature_extraction.text import TfidfVectorizer\n",
    "from sklearn.metrics.pairwise import cosine_similarity\n",
    "import matplotlib.pyplot as plt\n",
    "import seaborn as sns"
   ]
  },
  {
   "cell_type": "code",
   "execution_count": 61,
   "id": "ed682e73-80dd-4655-893f-7ae09b66dbe8",
   "metadata": {},
   "outputs": [],
   "source": [
    "\n",
    "# ✅ Step 2: Load the IMDB Dataset (from uploaded file and sample it)\n",
    "df = pd.read_csv(\"C:/Users/Arham Lab/Downloads/IMDB Dataset.csv\").sample(n=2000, random_state=42)\n",
    "df.dropna(inplace=True)"
   ]
  },
  {
   "cell_type": "code",
   "execution_count": 63,
   "id": "d5b4c1b0-8247-4824-8469-d52be3ca0a8a",
   "metadata": {},
   "outputs": [],
   "source": [
    "# ✅ Step 3: Rename columns for clarity\n",
    "df.rename(columns={\"review\": \"content\", \"sentiment\": \"label\"}, inplace=True)"
   ]
  },
  {
   "cell_type": "code",
   "execution_count": 65,
   "id": "dabc2d61-7e60-49e2-9d16-848f40e1b658",
   "metadata": {},
   "outputs": [],
   "source": [
    "# ✅ Step 4: Vectorization using TF-IDF\n",
    "tfidf = TfidfVectorizer(stop_words='english', max_features=5000)\n",
    "tfidf_matrix = tfidf.fit_transform(df['content'])\n"
   ]
  },
  {
   "cell_type": "code",
   "execution_count": 67,
   "id": "78589225-8135-426c-a76f-c899e8f21fbc",
   "metadata": {},
   "outputs": [],
   "source": [
    "# ✅ Step 5: Cosine Similarity Matrix (on 2000-sample to avoid MemoryError)\n",
    "cosine_sim = cosine_similarity(tfidf_matrix, tfidf_matrix)\n"
   ]
  },
  {
   "cell_type": "code",
   "execution_count": 69,
   "id": "808f43dd-a141-43e5-baf4-824f41455c37",
   "metadata": {},
   "outputs": [],
   "source": [
    "# ✅ Step 6: Recommendation Function (based on review similarity)\n",
    "def get_recommendations(index, cosine_sim=cosine_sim):\n",
    "    sim_scores = list(enumerate(cosine_sim[index]))\n",
    "    sim_scores = sorted(sim_scores, key=lambda x: x[1], reverse=True)[1:6]\n",
    "    review_indices = [i[0] for i in sim_scores]\n",
    "    return df['content'].iloc[review_indices]\n"
   ]
  },
  {
   "cell_type": "code",
   "execution_count": 71,
   "id": "e3f20789-fc5e-4124-8e72-ae2189aea2dd",
   "metadata": {},
   "outputs": [
    {
     "name": "stdout",
     "output_type": "stream",
     "text": [
      "📩 Input Review:\n",
      " jeez, this was immensely boring. the leading man (Christian Schoyen) has got to be the worst actor i have ever seen. and another thing, if the character in the movie moved to America when he was ten or something and had been living here for over 20 years, he would speak a lot better English than wha ...\n",
      "\n",
      "📝 Recommended Similar Reviews:\n",
      "17554    Once you can get over Nic Cage playing an Ital...\n",
      "6034     Creepshow 2 had a lot of potential, they just ...\n",
      "23468    Supposedly, a movie about a magazine sending j...\n",
      "18315    This is a road movie. At least the movie is in...\n",
      "5946     I give this movie a 4 cause I'm a die hard fan...\n",
      "Name: content, dtype: object\n"
     ]
    }
   ],
   "source": [
    "# ✅ Step 7: Test the Recommendation System\n",
    "sample_index = 10\n",
    "print(\"📩 Input Review:\\n\", df['content'].iloc[sample_index][:300], \"...\\n\")\n",
    "print(\"📝 Recommended Similar Reviews:\")\n",
    "print(get_recommendations(sample_index))\n"
   ]
  },
  {
   "cell_type": "code",
   "execution_count": 75,
   "id": "1f5bc0f8-55d4-438f-ba60-e1c65e491784",
   "metadata": {},
   "outputs": [
    {
     "name": "stderr",
     "output_type": "stream",
     "text": [
      "C:\\Users\\Arham Lab\\AppData\\Local\\Temp\\ipykernel_3380\\1294751645.py:3: FutureWarning: \n",
      "\n",
      "Passing `palette` without assigning `hue` is deprecated and will be removed in v0.14.0. Assign the `x` variable to `hue` and set `legend=False` for the same effect.\n",
      "\n",
      "  sns.countplot(x='label', data=df, palette='Set2')\n"
     ]
    },
    {
     "data": {
      "image/png": "[encoded data removed]",
      "text/plain": [
       "<Figure size 600x400 with 1 Axes>"
      ]
     },
     "metadata": {},
     "output_type": "display_data"
    }
   ],
   "source": [
    "# ✅ Step 8: Visualization - Sentiment Distribution\n",
    "plt.figure(figsize=(6,4))\n",
    "sns.countplot(x='label', data=df, palette='Set2')\n",
    "plt.title(\"Sentiment Distribution in IMDB Dataset\")\n",
    "plt.xlabel(\"Sentiment\")\n",
    "plt.ylabel(\"Count\")\n",
    "plt.tight_layout()\n",
    "plt.show()\n"
   ]
  },
  {
   "cell_type": "code",
   "execution_count": null,
   "id": "85a704de-e9e2-4eb8-8e7e-1a517807c524",
   "metadata": {},
   "outputs": [],
   "source": []
  }
 ],
 "metadata": {
  "kernelspec": {
   "display_name": "Python 3 (ipykernel)",
   "language": "python",
   "name": "python3"
  },
  "language_info": {
   "codemirror_mode": {
    "name": "ipython",
    "version": 3
   },
   "file_extension": ".py",
   "mimetype": "text/x-python",
   "name": "python",
   "nbconvert_exporter": "python",
   "pygments_lexer": "ipython3",
   "version": "3.12.4"
  }
 },
 "nbformat": 4,
 "nbformat_minor": 5
}
